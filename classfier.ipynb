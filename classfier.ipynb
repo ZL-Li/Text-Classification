{
 "cells": [
  {
   "cell_type": "code",
   "execution_count": 1,
   "id": "448b2e12",
   "metadata": {},
   "outputs": [],
   "source": [
    "import numpy as np\n",
    "import pandas as pd\n",
    "from sklearn.naive_bayes import MultinomialNB, BernoulliNB\n",
    "from sklearn.feature_extraction.text import CountVectorizer\n",
    "from sklearn.metrics import precision_recall_fscore_support, accuracy_score, classification_report\n",
    "from sklearn import tree\n",
    "from sklearn.neural_network import MLPClassifier\n",
    "from nltk.stem import PorterStemmer\n",
    "from nltk.corpus import stopwords\n",
    "import csv\n",
    "import re\n",
    "import matplotlib.pyplot as plt\n",
    "%matplotlib inline\n",
    "import seaborn as sns"
   ]
  },
  {
   "cell_type": "code",
   "execution_count": 2,
   "id": "b9b992c3",
   "metadata": {},
   "outputs": [],
   "source": [
    "data_article = pd.read_csv('articles.tsv', sep='\\t', header=None, quoting=csv.QUOTE_NONE)\n",
    "data_summary = pd.read_csv('summaries.tsv', sep='\\t', header=None, quoting=csv.QUOTE_NONE)\n",
    "\n",
    "train_data_article = data_article[0:800]\n",
    "test_data_article = data_article[800:]\n",
    "train_data_summary = data_summary[0:800]\n",
    "test_data_summary = data_summary[800:]"
   ]
  },
  {
   "cell_type": "code",
   "execution_count": 3,
   "id": "a20292e2",
   "metadata": {},
   "outputs": [],
   "source": [
    "# define my own tokenizer\n",
    "def my_tokenizer(text):\n",
    "\n",
    "    # remove illegal words\n",
    "    text = re.sub(r'[^A-Za-z0-9_#@$% ]','',text)\n",
    "    # remove urls\n",
    "    text = re.sub(r'(https?://|www)[^\\s]+',' ',text)\n",
    "    # length >= 2\n",
    "    return [token for token in text.split() if len(token) >= 2]"
   ]
  },
  {
   "cell_type": "code",
   "execution_count": 4,
   "id": "ecc1c857",
   "metadata": {},
   "outputs": [],
   "source": [
    "# define my own tokenizer\n",
    "def my_tokenizer2(text):\n",
    "    ps = PorterStemmer()\n",
    "    stop_words = set(stopwords.words('english'))\n",
    "    \n",
    "    # remove illegal words\n",
    "    text = re.sub(r'[^A-Za-z0-9_#@$% ]','',text)\n",
    "    # remove urls\n",
    "    text = re.sub(r'(https?://|www)[^\\s]+',' ',text)\n",
    "    # length >= 2\n",
    "    return [ps.stem(token) for token in text.split() if len(token) >= 2 and token not in stop_words]"
   ]
  },
  {
   "cell_type": "code",
   "execution_count": 5,
   "id": "cc652833",
   "metadata": {},
   "outputs": [],
   "source": [
    "def evaluation(Y_test, Y_predict):\n",
    "    num_dec_point = 3\n",
    "\n",
    "    a_mic = accuracy_score(Y_test, Y_predict)\n",
    "    p_mic, r_mic, f1_mic, _ = precision_recall_fscore_support(Y_test,\n",
    "                                                              Y_predict,\n",
    "                                                              average='micro',\n",
    "                                                              warn_for=())\n",
    "    p_mac, r_mac, f1_mac, _ = precision_recall_fscore_support(Y_test,\n",
    "                                                              Y_predict,\n",
    "                                                              average='macro',\n",
    "                                                              warn_for=())\n",
    "    print('micro acc,prec,rec,f1: ', round(a_mic, num_dec_point), round(\n",
    "        p_mic, num_dec_point), round(r_mic, num_dec_point), round(f1_mic, num_dec_point), sep=\"\\t\")\n",
    "    print('macro prec,rec,f1: ', round(p_mac, num_dec_point), round(\n",
    "        r_mac, num_dec_point), round(f1_mac, num_dec_point), sep=\"\\t\")"
   ]
  },
  {
   "cell_type": "code",
   "execution_count": 6,
   "id": "4b6196d1",
   "metadata": {},
   "outputs": [],
   "source": [
    "def plot1(Y_test, Y_predict1, Y_predict2):\n",
    "    a_mic1 = accuracy_score(Y_test, Y_predict1)\n",
    "    p_mic1, r_mic1, f1_mic1, _ = precision_recall_fscore_support(Y_test,Y_predict1,average='micro',warn_for=())\n",
    "    p_mac1, r_mac1, f1_mac1, _ = precision_recall_fscore_support(Y_test,Y_predict1,average='macro',warn_for=())\n",
    "    \n",
    "    a_mic2 = accuracy_score(Y_test, Y_predict2)\n",
    "    p_mic2, r_mic2, f1_mic2, _ = precision_recall_fscore_support(Y_test,Y_predict2,average='micro',warn_for=())\n",
    "    p_mac2, r_mac2, f1_mac2, _ = precision_recall_fscore_support(Y_test,Y_predict2,average='macro',warn_for=())\n",
    "    \n",
    "    micro = pd.DataFrame({'model':['a','a','a','a','b','b','b','b'],\n",
    "                  'Metrics':['accuracy', 'precision', 'recall', 'f1', 'accuracy', 'precision', 'recall', 'f1']})\n",
    "    micro['Value'] = [a_mic1, p_mic1, r_mic1, f1_mic1, a_mic2, p_mic2, r_mic2, f1_mic2]\n",
    "    \n",
    "    macro = pd.DataFrame({'model':['a','a','a','b','b','b'],\n",
    "                  'Metrics':['precision', 'recall', 'f1', 'precision', 'recall', 'f1']})\n",
    "    macro['Value'] = [p_mac1, r_mac1, f1_mac1, p_mac2, r_mac2, f1_mac2]\n",
    "\n",
    "    sns.set(style=\"dark\")\n",
    "\n",
    "    fig, axes = plt.subplots(1,2,figsize=(12, 5))\n",
    "\n",
    "    plt.subplot(1,2,1)\n",
    "    plt.title('Micro Metrics of two DT models (a) and (b)')\n",
    "    plt.ylim((0,1))\n",
    "    for a, b in zip([-0.175,0.225,0.825,1.225,1.825,2.225,2.825,3.225], \n",
    "                    [micro['Value'][0],micro['Value'][4],micro['Value'][1],micro['Value'][5],\n",
    "                     micro['Value'][2],micro['Value'][6],micro['Value'][3],micro['Value'][7]]):\n",
    "        plt.text(a, b+0.02, '%.3f' % b, ha='center', va='bottom', fontsize=10)\n",
    "    sns.barplot(x = 'Metrics', y = 'Value', data = micro, palette = 'Paired', hue = 'model')\n",
    "\n",
    "    plt.subplot(1,2,2)\n",
    "    plt.title('Macro Metrics of two DT models (a) and (b)')\n",
    "    plt.ylim((0,1))\n",
    "    for a, b in zip([-0.175,0.225,0.825,1.225,1.825,2.225], \n",
    "                    [macro['Value'][0],macro['Value'][3],macro['Value'][1],\n",
    "                     macro['Value'][4],macro['Value'][2],macro['Value'][5]]):\n",
    "        plt.text(a, b+0.02, '%.3f' % b, ha='center', va='bottom', fontsize=10)\n",
    "    sns.barplot(x = 'Metrics', y = 'Value', data = macro, palette = 'Paired', hue = 'model')\n",
    "    \n",
    "    return micro, macro"
   ]
  },
  {
   "cell_type": "code",
   "execution_count": 7,
   "id": "4be1d328",
   "metadata": {},
   "outputs": [],
   "source": [
    "def plot2(Y_test, Y_predict1, Y_predict2, ylim, type):\n",
    "    a_mic1 = accuracy_score(Y_test, Y_predict1)\n",
    "    p_mic1, r_mic1, f1_mic1, _ = precision_recall_fscore_support(Y_test,Y_predict1,average='micro',warn_for=())\n",
    "    p_mac1, r_mac1, f1_mac1, _ = precision_recall_fscore_support(Y_test,Y_predict1,average='macro',warn_for=())\n",
    "    \n",
    "    a_mic2 = accuracy_score(Y_test, Y_predict2)\n",
    "    p_mic2, r_mic2, f1_mic2, _ = precision_recall_fscore_support(Y_test,Y_predict2,average='micro',warn_for=())\n",
    "    p_mac2, r_mac2, f1_mac2, _ = precision_recall_fscore_support(Y_test,Y_predict2,average='macro',warn_for=())\n",
    "    \n",
    "    micro = pd.DataFrame({'model':['a','a','a','a','b','b','b','b'],\n",
    "                  'Metrics':['accuracy', 'precision', 'recall', 'f1', 'accuracy', 'precision', 'recall', 'f1']})\n",
    "    micro['Value'] = [a_mic1, p_mic1, r_mic1, f1_mic1, a_mic2, p_mic2, r_mic2, f1_mic2]\n",
    "    \n",
    "    macro = pd.DataFrame({'model':['a','a','a','b','b','b'],\n",
    "                  'Metrics':['precision', 'recall', 'f1', 'precision', 'recall', 'f1']})\n",
    "    macro['Value'] = [p_mac1, r_mac1, f1_mac1, p_mac2, r_mac2, f1_mac2]\n",
    "\n",
    "    sns.set(style=\"dark\")\n",
    "\n",
    "    fig, axes = plt.subplots(1,2,figsize=(12, 5))\n",
    "\n",
    "    plt.subplot(1,2,1)\n",
    "    plt.title('Micro Metrics of two ' + type + ' models (a) and (b)')\n",
    "    plt.ylim((0,ylim))\n",
    "    for a, b in zip([-0.175,0.225,0.825,1.225,1.825,2.225,2.825,3.225], \n",
    "                    [micro['Value'][0],micro['Value'][4],micro['Value'][1],micro['Value'][5],\n",
    "                     micro['Value'][2],micro['Value'][6],micro['Value'][3],micro['Value'][7]]):\n",
    "        plt.text(a, b+0.02, '%.3f' % b, ha='center', va='bottom', fontsize=10)\n",
    "    barplot = sns.barplot(x = 'Metrics', y = 'Value', data = micro, palette = 'Paired', hue = 'model')\n",
    "    barplot.legend(loc = 0)\n",
    "\n",
    "    plt.subplot(1,2,2)\n",
    "    plt.title('Macro Metrics of two ' + type + ' models (a) and (b)')\n",
    "    plt.ylim((0,ylim))\n",
    "    for a, b in zip([-0.175,0.225,0.825,1.225,1.825,2.225], \n",
    "                    [macro['Value'][0],macro['Value'][3],macro['Value'][1],\n",
    "                     macro['Value'][4],macro['Value'][2],macro['Value'][5]]):\n",
    "        plt.text(a, b+0.02, '%.3f' % b, ha='center', va='bottom', fontsize=10)\n",
    "    barplot = sns.barplot(x = 'Metrics', y = 'Value', data = macro, palette = 'Paired', hue = 'model')\n",
    "    barplot.legend(loc = 0)\n",
    "    \n",
    "    return micro, macro"
   ]
  },
  {
   "cell_type": "markdown",
   "id": "a958dfc0",
   "metadata": {
    "heading_collapsed": true
   },
   "source": [
    "## Question 1"
   ]
  },
  {
   "cell_type": "markdown",
   "id": "ec536b50",
   "metadata": {
    "hidden": true
   },
   "source": [
    "### 1(i)"
   ]
  },
  {
   "cell_type": "code",
   "execution_count": 8,
   "id": "6b2fed85",
   "metadata": {
    "hidden": true
   },
   "outputs": [],
   "source": [
    "X_train, Y_train = train_data_article[1], train_data_article[2]\n",
    "X_test, Y_test = test_data_article[1], test_data_article[2]"
   ]
  },
  {
   "cell_type": "code",
   "execution_count": 9,
   "id": "a7532fc2",
   "metadata": {
    "hidden": true
   },
   "outputs": [],
   "source": [
    "# DT\n",
    "\n",
    "# create count vectorizer and fit it with training data\n",
    "count = CountVectorizer(tokenizer=my_tokenizer, max_features = 1000, lowercase=False)\n",
    "X_train_bag_of_words = count.fit_transform(X_train)\n",
    "\n",
    "# transform the test data into bag of words creaed with fit_transform\n",
    "X_test_bag_of_words = count.transform(X_test)\n",
    "\n",
    "# build the model\n",
    "clf1 = tree.DecisionTreeClassifier(min_samples_leaf=0.01, criterion='entropy', random_state=0)\n",
    "clf1.fit(X_train_bag_of_words, Y_train)\n",
    "Y_predict1 = clf1.predict(X_test_bag_of_words)\n",
    "\n",
    "clf2 = tree.DecisionTreeClassifier(criterion='entropy', random_state=0)\n",
    "clf2.fit(X_train_bag_of_words, Y_train)\n",
    "Y_predict2 = clf2.predict(X_test_bag_of_words)"
   ]
  },
  {
   "cell_type": "code",
   "execution_count": 10,
   "id": "1d2fa622",
   "metadata": {
    "hidden": true,
    "scrolled": false
   },
   "outputs": [
    {
     "name": "stdout",
     "output_type": "stream",
     "text": [
      "micro acc,prec,rec,f1: \t0.715\t0.715\t0.715\t0.715\n",
      "macro prec,rec,f1: \t0.709\t0.703\t0.703\n",
      "micro acc,prec,rec,f1: \t0.71\t0.71\t0.71\t0.71\n",
      "macro prec,rec,f1: \t0.702\t0.706\t0.703\n"
     ]
    }
   ],
   "source": [
    "# print(classification_report(Y_test, Y_predict1))\n",
    "evaluation(Y_test, Y_predict1)\n",
    "evaluation(Y_test, Y_predict2)"
   ]
  },
  {
   "cell_type": "code",
   "execution_count": 11,
   "id": "c17bac68",
   "metadata": {
    "hidden": true,
    "scrolled": false
   },
   "outputs": [
    {
     "data": {
      "image/png": "[encoded data removed]",
      "text/plain": [
       "<Figure size 864x360 with 2 Axes>"
      ]
     },
     "metadata": {},
     "output_type": "display_data"
    }
   ],
   "source": [
    "micro, macro = plot1(Y_test, Y_predict1, Y_predict2)"
   ]
  },
  {
   "cell_type": "markdown",
   "id": "042a9ee5",
   "metadata": {
    "hidden": true
   },
   "source": [
    "### 1(ii)"
   ]
  },
  {
   "cell_type": "code",
   "execution_count": 12,
   "id": "126ca0b0",
   "metadata": {
    "hidden": true
   },
   "outputs": [],
   "source": [
    "X_train, Y_train = train_data_summary[1], train_data_summary[2]\n",
    "X_test, Y_test = test_data_summary[1], test_data_summary[2]"
   ]
  },
  {
   "cell_type": "code",
   "execution_count": 13,
   "id": "667ae4bd",
   "metadata": {
    "hidden": true
   },
   "outputs": [],
   "source": [
    "# DT\n",
    "\n",
    "# create count vectorizer and fit it with training data\n",
    "count = CountVectorizer(tokenizer=my_tokenizer, max_features = 1000, lowercase=False)\n",
    "X_train_bag_of_words = count.fit_transform(X_train)\n",
    "\n",
    "# transform the test data into bag of words creaed with fit_transform\n",
    "X_test_bag_of_words = count.transform(X_test)\n",
    "\n",
    "# build the model\n",
    "clf1 = tree.DecisionTreeClassifier(min_samples_leaf=0.01, criterion='entropy', random_state=0)\n",
    "clf1.fit(X_train_bag_of_words, Y_train)\n",
    "Y_predict1 = clf1.predict(X_test_bag_of_words)\n",
    "\n",
    "clf2 = tree.DecisionTreeClassifier(criterion='entropy', random_state=0)\n",
    "clf2.fit(X_train_bag_of_words, Y_train)\n",
    "Y_predict2 = clf2.predict(X_test_bag_of_words)"
   ]
  },
  {
   "cell_type": "code",
   "execution_count": 14,
   "id": "40c0b6b7",
   "metadata": {
    "hidden": true,
    "scrolled": true
   },
   "outputs": [
    {
     "name": "stdout",
     "output_type": "stream",
     "text": [
      "micro acc,prec,rec,f1: \t0.49\t0.49\t0.49\t0.49\n",
      "macro prec,rec,f1: \t0.498\t0.489\t0.488\n",
      "micro acc,prec,rec,f1: \t0.49\t0.49\t0.49\t0.49\n",
      "macro prec,rec,f1: \t0.486\t0.484\t0.485\n"
     ]
    }
   ],
   "source": [
    "# print(classification_report(Y_test, Y_predict1))\n",
    "evaluation(Y_test, Y_predict1)\n",
    "evaluation(Y_test, Y_predict2)"
   ]
  },
  {
   "cell_type": "code",
   "execution_count": 15,
   "id": "71253b24",
   "metadata": {
    "hidden": true,
    "scrolled": false
   },
   "outputs": [
    {
     "data": {
      "image/png": "[encoded data removed]",
      "text/plain": [
       "<Figure size 864x360 with 2 Axes>"
      ]
     },
     "metadata": {},
     "output_type": "display_data"
    }
   ],
   "source": [
    "micro, macro = plot1(Y_test, Y_predict1, Y_predict2)"
   ]
  },
  {
   "cell_type": "markdown",
   "id": "6b3df725",
   "metadata": {
    "hidden": true
   },
   "source": [
    "### i(iii)"
   ]
  },
  {
   "cell_type": "code",
   "execution_count": 16,
   "id": "ea88dd4b",
   "metadata": {
    "hidden": true
   },
   "outputs": [
    {
     "data": {
      "text/plain": [
       "(2221.302, 979.891)"
      ]
     },
     "execution_count": 16,
     "metadata": {},
     "output_type": "execute_result"
    }
   ],
   "source": [
    "np.array([len(i) for i in data_article[1]]).mean(), np.array([len(i) for i in data_summary[1]]).mean()"
   ]
  },
  {
   "cell_type": "markdown",
   "id": "bc6de17b",
   "metadata": {
    "heading_collapsed": true
   },
   "source": [
    "## Question 2"
   ]
  },
  {
   "cell_type": "markdown",
   "id": "88926d00",
   "metadata": {
    "hidden": true
   },
   "source": [
    "### 2(i)"
   ]
  },
  {
   "cell_type": "code",
   "execution_count": 17,
   "id": "c70da15b",
   "metadata": {
    "hidden": true
   },
   "outputs": [],
   "source": [
    "X_train, Y_train = train_data_article[1], train_data_article[2]\n",
    "X_test, Y_test = test_data_article[1], test_data_article[2]"
   ]
  },
  {
   "cell_type": "code",
   "execution_count": 18,
   "id": "143b54ce",
   "metadata": {
    "hidden": true
   },
   "outputs": [],
   "source": [
    "# BNB(a)\n",
    "\n",
    "# create count vectorizer and fit it with training data\n",
    "count = CountVectorizer(tokenizer=my_tokenizer, lowercase=False)\n",
    "X_train_bag_of_words = count.fit_transform(X_train)\n",
    "# len(count.get_feature_names())\n",
    "\n",
    "# transform the test data into bag of words creaed with fit_transform\n",
    "X_test_bag_of_words = count.transform(X_test)\n",
    "\n",
    "# build the model\n",
    "clf1 = BernoulliNB()\n",
    "clf1.fit(X_train_bag_of_words, Y_train)\n",
    "Y_predict1 = clf1.predict(X_test_bag_of_words)\n",
    "\n",
    "# BNB(b)-max_features=1000\n",
    "\n",
    "# create count vectorizer and fit it with training data\n",
    "count = CountVectorizer(tokenizer=my_tokenizer, max_features = 1000, lowercase=False)\n",
    "X_train_bag_of_words = count.fit_transform(X_train)\n",
    "# len(count.get_feature_names())\n",
    "\n",
    "# transform the test data into bag of words creaed with fit_transform\n",
    "X_test_bag_of_words = count.transform(X_test)\n",
    "\n",
    "# build the model\n",
    "clf2 = BernoulliNB()\n",
    "clf2.fit(X_train_bag_of_words, Y_train)\n",
    "Y_predict2 = clf2.predict(X_test_bag_of_words)"
   ]
  },
  {
   "cell_type": "code",
   "execution_count": 19,
   "id": "1741eccc",
   "metadata": {
    "hidden": true,
    "scrolled": true
   },
   "outputs": [
    {
     "name": "stdout",
     "output_type": "stream",
     "text": [
      "micro acc,prec,rec,f1: \t0.86\t0.86\t0.86\t0.86\n",
      "macro prec,rec,f1: \t0.898\t0.842\t0.855\n",
      "micro acc,prec,rec,f1: \t0.91\t0.91\t0.91\t0.91\n",
      "macro prec,rec,f1: \t0.907\t0.898\t0.901\n"
     ]
    }
   ],
   "source": [
    "# print(classification_report(Y_test, Y_predict1))\n",
    "evaluation(Y_test, Y_predict1)\n",
    "evaluation(Y_test, Y_predict2)"
   ]
  },
  {
   "cell_type": "code",
   "execution_count": 20,
   "id": "aca0c7ec",
   "metadata": {
    "hidden": true,
    "scrolled": true
   },
   "outputs": [
    {
     "data": {
      "image/png": "[encoded data removed]",
      "text/plain": [
       "<Figure size 864x360 with 2 Axes>"
      ]
     },
     "metadata": {},
     "output_type": "display_data"
    }
   ],
   "source": [
    "micro, macro = plot2(Y_test, Y_predict1, Y_predict2, 1.15, 'BNB')"
   ]
  },
  {
   "cell_type": "code",
   "execution_count": 21,
   "id": "7e9efbca",
   "metadata": {
    "hidden": true
   },
   "outputs": [],
   "source": [
    "# MNB(a)\n",
    "\n",
    "# create count vectorizer and fit it with training data\n",
    "count = CountVectorizer(tokenizer=my_tokenizer, lowercase=False)\n",
    "X_train_bag_of_words = count.fit_transform(X_train)\n",
    "# len(count.get_feature_names())\n",
    "\n",
    "# transform the test data into bag of words creaed with fit_transform\n",
    "X_test_bag_of_words = count.transform(X_test)\n",
    "\n",
    "# build the model\n",
    "clf1 = MultinomialNB()\n",
    "clf1.fit(X_train_bag_of_words, Y_train)\n",
    "Y_predict1 = clf1.predict(X_test_bag_of_words)\n",
    "\n",
    "# MNB(b)-max_features=1000\n",
    "\n",
    "# create count vectorizer and fit it with training data\n",
    "count = CountVectorizer(tokenizer=my_tokenizer, max_features = 1000, lowercase=False)\n",
    "X_train_bag_of_words = count.fit_transform(X_train)\n",
    "# len(count.get_feature_names())\n",
    "\n",
    "# transform the test data into bag of words creaed with fit_transform\n",
    "X_test_bag_of_words = count.transform(X_test)\n",
    "\n",
    "# build the model\n",
    "clf2 = MultinomialNB()\n",
    "clf2.fit(X_train_bag_of_words, Y_train)\n",
    "Y_predict2 = clf2.predict(X_test_bag_of_words)"
   ]
  },
  {
   "cell_type": "code",
   "execution_count": 22,
   "id": "a1324f55",
   "metadata": {
    "hidden": true,
    "scrolled": false
   },
   "outputs": [
    {
     "name": "stdout",
     "output_type": "stream",
     "text": [
      "micro acc,prec,rec,f1: \t0.955\t0.955\t0.955\t0.955\n",
      "macro prec,rec,f1: \t0.954\t0.953\t0.951\n",
      "micro acc,prec,rec,f1: \t0.96\t0.96\t0.96\t0.96\n",
      "macro prec,rec,f1: \t0.955\t0.958\t0.956\n"
     ]
    }
   ],
   "source": [
    "# print(classification_report(Y_test, Y_predict1))\n",
    "evaluation(Y_test, Y_predict1)\n",
    "evaluation(Y_test, Y_predict2)"
   ]
  },
  {
   "cell_type": "code",
   "execution_count": 23,
   "id": "790c0d52",
   "metadata": {
    "hidden": true,
    "scrolled": false
   },
   "outputs": [
    {
     "data": {
      "image/png": "[encoded data removed]",
      "text/plain": [
       "<Figure size 864x360 with 2 Axes>"
      ]
     },
     "metadata": {},
     "output_type": "display_data"
    }
   ],
   "source": [
    "micro, macro = plot2(Y_test, Y_predict1, Y_predict2, 1.1999, 'MNB')"
   ]
  },
  {
   "cell_type": "markdown",
   "id": "645681fb",
   "metadata": {
    "hidden": true
   },
   "source": [
    "### 2(ii)"
   ]
  },
  {
   "cell_type": "code",
   "execution_count": 24,
   "id": "de44b993",
   "metadata": {
    "hidden": true
   },
   "outputs": [],
   "source": [
    "X_train, Y_train = train_data_summary[1], train_data_summary[2]\n",
    "X_test, Y_test = test_data_summary[1], test_data_summary[2]"
   ]
  },
  {
   "cell_type": "code",
   "execution_count": 25,
   "id": "168fbd5a",
   "metadata": {
    "hidden": true
   },
   "outputs": [],
   "source": [
    "# BNB(a)\n",
    "\n",
    "# create count vectorizer and fit it with training data\n",
    "count = CountVectorizer(tokenizer=my_tokenizer, lowercase=False)\n",
    "X_train_bag_of_words = count.fit_transform(X_train)\n",
    "# len(count.get_feature_names())\n",
    "\n",
    "# transform the test data into bag of words creaed with fit_transform\n",
    "X_test_bag_of_words = count.transform(X_test)\n",
    "\n",
    "# build the model\n",
    "clf1 = BernoulliNB()\n",
    "clf1.fit(X_train_bag_of_words, Y_train)\n",
    "Y_predict1 = clf1.predict(X_test_bag_of_words)\n",
    "\n",
    "# BNB(b)-max_features=1000\n",
    "\n",
    "# create count vectorizer and fit it with training data\n",
    "count = CountVectorizer(tokenizer=my_tokenizer, max_features = 1000, lowercase=False)\n",
    "X_train_bag_of_words = count.fit_transform(X_train)\n",
    "# len(count.get_feature_names())\n",
    "\n",
    "# transform the test data into bag of words creaed with fit_transform\n",
    "X_test_bag_of_words = count.transform(X_test)\n",
    "\n",
    "# build the model\n",
    "clf2 = BernoulliNB()\n",
    "clf2.fit(X_train_bag_of_words, Y_train)\n",
    "Y_predict2 = clf2.predict(X_test_bag_of_words)"
   ]
  },
  {
   "cell_type": "code",
   "execution_count": 26,
   "id": "d40640da",
   "metadata": {
    "hidden": true,
    "scrolled": true
   },
   "outputs": [
    {
     "name": "stdout",
     "output_type": "stream",
     "text": [
      "micro acc,prec,rec,f1: \t0.745\t0.745\t0.745\t0.745\n",
      "macro prec,rec,f1: \t0.87\t0.713\t0.726\n",
      "micro acc,prec,rec,f1: \t0.86\t0.86\t0.86\t0.86\n",
      "macro prec,rec,f1: \t0.863\t0.852\t0.855\n"
     ]
    }
   ],
   "source": [
    "# print(classification_report(Y_test, Y_predict1))\n",
    "evaluation(Y_test, Y_predict1)\n",
    "evaluation(Y_test, Y_predict2)"
   ]
  },
  {
   "cell_type": "code",
   "execution_count": 27,
   "id": "1b44dcaf",
   "metadata": {
    "hidden": true,
    "scrolled": false
   },
   "outputs": [
    {
     "data": {
      "image/png": "[encoded data removed]",
      "text/plain": [
       "<Figure size 864x360 with 2 Axes>"
      ]
     },
     "metadata": {},
     "output_type": "display_data"
    }
   ],
   "source": [
    "micro, macro = plot2(Y_test, Y_predict1, Y_predict2, 1.1, 'BNB')"
   ]
  },
  {
   "cell_type": "code",
   "execution_count": 28,
   "id": "35d7b26a",
   "metadata": {
    "hidden": true
   },
   "outputs": [],
   "source": [
    "# MNB(a)\n",
    "\n",
    "# create count vectorizer and fit it with training data\n",
    "count = CountVectorizer(tokenizer=my_tokenizer, lowercase=False)\n",
    "X_train_bag_of_words = count.fit_transform(X_train)\n",
    "# len(count.get_feature_names())\n",
    "\n",
    "# transform the test data into bag of words creaed with fit_transform\n",
    "X_test_bag_of_words = count.transform(X_test)\n",
    "\n",
    "# build the model\n",
    "clf1 = MultinomialNB()\n",
    "clf1.fit(X_train_bag_of_words, Y_train)\n",
    "Y_predict1 = clf1.predict(X_test_bag_of_words)\n",
    "\n",
    "# MNB(b)-max_features=1000\n",
    "\n",
    "# create count vectorizer and fit it with training data\n",
    "count = CountVectorizer(tokenizer=my_tokenizer, max_features = 1000, lowercase=False)\n",
    "X_train_bag_of_words = count.fit_transform(X_train)\n",
    "# len(count.get_feature_names())\n",
    "\n",
    "# transform the test data into bag of words creaed with fit_transform\n",
    "X_test_bag_of_words = count.transform(X_test)\n",
    "\n",
    "# build the model\n",
    "clf2 = MultinomialNB()\n",
    "clf2.fit(X_train_bag_of_words, Y_train)\n",
    "Y_predict2 = clf2.predict(X_test_bag_of_words)"
   ]
  },
  {
   "cell_type": "code",
   "execution_count": 29,
   "id": "9cc48848",
   "metadata": {
    "hidden": true,
    "scrolled": true
   },
   "outputs": [
    {
     "name": "stdout",
     "output_type": "stream",
     "text": [
      "micro acc,prec,rec,f1: \t0.905\t0.905\t0.905\t0.905\n",
      "macro prec,rec,f1: \t0.91\t0.899\t0.897\n",
      "micro acc,prec,rec,f1: \t0.915\t0.915\t0.915\t0.915\n",
      "macro prec,rec,f1: \t0.912\t0.909\t0.91\n"
     ]
    }
   ],
   "source": [
    "# print(classification_report(Y_test, Y_predict1))\n",
    "evaluation(Y_test, Y_predict1)\n",
    "evaluation(Y_test, Y_predict2)"
   ]
  },
  {
   "cell_type": "code",
   "execution_count": 30,
   "id": "29f04e52",
   "metadata": {
    "hidden": true,
    "scrolled": true
   },
   "outputs": [
    {
     "data": {
      "image/png": "[encoded data removed]",
      "text/plain": [
       "<Figure size 864x360 with 2 Axes>"
      ]
     },
     "metadata": {},
     "output_type": "display_data"
    }
   ],
   "source": [
    "micro, macro = plot2(Y_test, Y_predict1, Y_predict2, 1.15, 'MNB')"
   ]
  },
  {
   "cell_type": "markdown",
   "id": "04a79f17",
   "metadata": {
    "heading_collapsed": true
   },
   "source": [
    "## Question 3"
   ]
  },
  {
   "cell_type": "markdown",
   "id": "253a1477",
   "metadata": {
    "hidden": true
   },
   "source": [
    "### 3(i)(ii)"
   ]
  },
  {
   "cell_type": "code",
   "execution_count": 31,
   "id": "f60d7d17",
   "metadata": {
    "hidden": true
   },
   "outputs": [],
   "source": [
    "X_train, Y_train = train_data_article[1], train_data_article[2]\n",
    "X_test, Y_test = test_data_article[1], test_data_article[2]\n",
    "# X_train, Y_train = train_data_summary[1], train_data_summary[2]\n",
    "# X_test, Y_test = test_data_summary[1], test_data_summary[2]"
   ]
  },
  {
   "cell_type": "code",
   "execution_count": 32,
   "id": "9ce7794f",
   "metadata": {
    "hidden": true,
    "scrolled": true
   },
   "outputs": [],
   "source": [
    "# DT(a)\n",
    "\n",
    "# create count vectorizer and fit it with training data\n",
    "count = CountVectorizer(tokenizer=my_tokenizer, max_features = 1000, lowercase=False)\n",
    "X_train_bag_of_words = count.fit_transform(X_train)\n",
    "\n",
    "# transform the test data into bag of words creaed with fit_transform\n",
    "X_test_bag_of_words = count.transform(X_test)\n",
    "\n",
    "# build the model\n",
    "clf1 = tree.DecisionTreeClassifier(min_samples_leaf=0.01, criterion='entropy', random_state=0)\n",
    "clf1.fit(X_train_bag_of_words, Y_train)\n",
    "Y_predict1 = clf1.predict(X_test_bag_of_words)\n",
    "\n",
    "# DT(b)-stem + stop_words\n",
    "\n",
    "# create count vectorizer and fit it with training data\n",
    "count = CountVectorizer(tokenizer=my_tokenizer2, max_features = 1000, lowercase=False)\n",
    "X_train_bag_of_words = count.fit_transform(X_train)\n",
    "\n",
    "# transform the test data into bag of words creaed with fit_transform\n",
    "X_test_bag_of_words = count.transform(X_test)\n",
    "\n",
    "clf2 = tree.DecisionTreeClassifier(min_samples_leaf=0.01, criterion='entropy', random_state=0)\n",
    "clf2.fit(X_train_bag_of_words, Y_train)\n",
    "Y_predict2 = clf2.predict(X_test_bag_of_words)"
   ]
  },
  {
   "cell_type": "code",
   "execution_count": 33,
   "id": "fb6e2919",
   "metadata": {
    "hidden": true,
    "scrolled": true
   },
   "outputs": [
    {
     "name": "stdout",
     "output_type": "stream",
     "text": [
      "micro acc,prec,rec,f1: \t0.715\t0.715\t0.715\t0.715\n",
      "macro prec,rec,f1: \t0.709\t0.703\t0.703\n",
      "micro acc,prec,rec,f1: \t0.745\t0.745\t0.745\t0.745\n",
      "macro prec,rec,f1: \t0.741\t0.728\t0.732\n"
     ]
    }
   ],
   "source": [
    "# print(classification_report(Y_test, Y_predict1))\n",
    "evaluation(Y_test, Y_predict1)\n",
    "evaluation(Y_test, Y_predict2)"
   ]
  },
  {
   "cell_type": "code",
   "execution_count": 34,
   "id": "6e045927",
   "metadata": {
    "hidden": true,
    "scrolled": false
   },
   "outputs": [
    {
     "data": {
      "image/png": "[encoded data removed]",
      "text/plain": [
       "<Figure size 864x360 with 2 Axes>"
      ]
     },
     "metadata": {},
     "output_type": "display_data"
    }
   ],
   "source": [
    "micro, macro = plot1(Y_test, Y_predict1, Y_predict2)"
   ]
  },
  {
   "cell_type": "code",
   "execution_count": 35,
   "id": "d4015305",
   "metadata": {
    "hidden": true
   },
   "outputs": [],
   "source": [
    "# BNB(a)\n",
    "\n",
    "# create count vectorizer and fit it with training data\n",
    "count = CountVectorizer(tokenizer=my_tokenizer, lowercase=False)\n",
    "X_train_bag_of_words = count.fit_transform(X_train)\n",
    "# len(count.get_feature_names())\n",
    "\n",
    "# transform the test data into bag of words creaed with fit_transform\n",
    "X_test_bag_of_words = count.transform(X_test)\n",
    "\n",
    "# build the model\n",
    "clf1 = BernoulliNB()\n",
    "clf1.fit(X_train_bag_of_words, Y_train)\n",
    "Y_predict1 = clf1.predict(X_test_bag_of_words)\n",
    "\n",
    "# BNB(b)-stem + stop_words\n",
    "\n",
    "# create count vectorizer and fit it with training data\n",
    "count = CountVectorizer(tokenizer=my_tokenizer2, lowercase=False)\n",
    "X_train_bag_of_words = count.fit_transform(X_train)\n",
    "# len(count.get_feature_names())\n",
    "\n",
    "# transform the test data into bag of words creaed with fit_transform\n",
    "X_test_bag_of_words = count.transform(X_test)\n",
    "\n",
    "# build the model\n",
    "clf2 = BernoulliNB()\n",
    "clf2.fit(X_train_bag_of_words, Y_train)\n",
    "Y_predict2 = clf2.predict(X_test_bag_of_words)"
   ]
  },
  {
   "cell_type": "code",
   "execution_count": 36,
   "id": "3349bbb4",
   "metadata": {
    "hidden": true,
    "scrolled": false
   },
   "outputs": [
    {
     "name": "stdout",
     "output_type": "stream",
     "text": [
      "micro acc,prec,rec,f1: \t0.86\t0.86\t0.86\t0.86\n",
      "macro prec,rec,f1: \t0.898\t0.842\t0.855\n",
      "micro acc,prec,rec,f1: \t0.9\t0.9\t0.9\t0.9\n",
      "macro prec,rec,f1: \t0.926\t0.888\t0.898\n"
     ]
    }
   ],
   "source": [
    "# print(classification_report(Y_test, Y_predict1))\n",
    "evaluation(Y_test, Y_predict1)\n",
    "evaluation(Y_test, Y_predict2)"
   ]
  },
  {
   "cell_type": "code",
   "execution_count": 37,
   "id": "9457e001",
   "metadata": {
    "hidden": true,
    "scrolled": false
   },
   "outputs": [
    {
     "data": {
      "image/png": "[encoded data removed]",
      "text/plain": [
       "<Figure size 864x360 with 2 Axes>"
      ]
     },
     "metadata": {},
     "output_type": "display_data"
    }
   ],
   "source": [
    "micro, macro = plot2(Y_test, Y_predict1, Y_predict2, 1, 'BNB')"
   ]
  },
  {
   "cell_type": "code",
   "execution_count": 38,
   "id": "46bb0cca",
   "metadata": {
    "hidden": true
   },
   "outputs": [],
   "source": [
    "# MNB(a)\n",
    "\n",
    "# create count vectorizer and fit it with training data\n",
    "count = CountVectorizer(tokenizer=my_tokenizer, lowercase=False)\n",
    "X_train_bag_of_words = count.fit_transform(X_train)\n",
    "# len(count.get_feature_names())\n",
    "\n",
    "# transform the test data into bag of words creaed with fit_transform\n",
    "X_test_bag_of_words = count.transform(X_test)\n",
    "\n",
    "# build the model\n",
    "clf1 = MultinomialNB()\n",
    "clf1.fit(X_train_bag_of_words, Y_train)\n",
    "Y_predict1 = clf1.predict(X_test_bag_of_words)\n",
    "\n",
    "# MNB(b)-stem + stop_words\n",
    "\n",
    "# create count vectorizer and fit it with training data\n",
    "count = CountVectorizer(tokenizer=my_tokenizer2, lowercase=False)\n",
    "X_train_bag_of_words = count.fit_transform(X_train)\n",
    "# len(count.get_feature_names())\n",
    "\n",
    "# transform the test data into bag of words creaed with fit_transform\n",
    "X_test_bag_of_words = count.transform(X_test)\n",
    "\n",
    "# build the model\n",
    "clf2 = MultinomialNB()\n",
    "clf2.fit(X_train_bag_of_words, Y_train)\n",
    "Y_predict2 = clf2.predict(X_test_bag_of_words)"
   ]
  },
  {
   "cell_type": "code",
   "execution_count": 39,
   "id": "1e1dcd5d",
   "metadata": {
    "hidden": true,
    "scrolled": false
   },
   "outputs": [
    {
     "name": "stdout",
     "output_type": "stream",
     "text": [
      "micro acc,prec,rec,f1: \t0.955\t0.955\t0.955\t0.955\n",
      "macro prec,rec,f1: \t0.954\t0.953\t0.951\n",
      "micro acc,prec,rec,f1: \t0.98\t0.98\t0.98\t0.98\n",
      "macro prec,rec,f1: \t0.977\t0.981\t0.979\n"
     ]
    }
   ],
   "source": [
    "# print(classification_report(Y_test, Y_predict1))\n",
    "evaluation(Y_test, Y_predict1)\n",
    "evaluation(Y_test, Y_predict2)"
   ]
  },
  {
   "cell_type": "code",
   "execution_count": 40,
   "id": "1b2c7993",
   "metadata": {
    "hidden": true,
    "scrolled": true
   },
   "outputs": [
    {
     "data": {
      "image/png": "[encoded data removed]",
      "text/plain": [
       "<Figure size 864x360 with 2 Axes>"
      ]
     },
     "metadata": {},
     "output_type": "display_data"
    }
   ],
   "source": [
    "micro, macro = plot2(Y_test, Y_predict1, Y_predict2, 1.1999, 'MNB')"
   ]
  },
  {
   "cell_type": "markdown",
   "id": "ee43e0e6",
   "metadata": {
    "heading_collapsed": true
   },
   "source": [
    "## Question 4"
   ]
  },
  {
   "cell_type": "markdown",
   "id": "68a7cf9a",
   "metadata": {
    "hidden": true
   },
   "source": [
    "### 4(i)(ii)"
   ]
  },
  {
   "cell_type": "code",
   "execution_count": 41,
   "id": "9f8e2f7f",
   "metadata": {
    "hidden": true
   },
   "outputs": [],
   "source": [
    "X_train, Y_train = train_data_article[1], train_data_article[2]\n",
    "X_test, Y_test = test_data_article[1], test_data_article[2]\n",
    "# X_train, Y_train = train_data_summary[1], train_data_summary[2]\n",
    "# X_test, Y_test = test_data_summary[1], test_data_summary[2]"
   ]
  },
  {
   "cell_type": "code",
   "execution_count": 42,
   "id": "335ab632",
   "metadata": {
    "hidden": true,
    "scrolled": true
   },
   "outputs": [],
   "source": [
    "# DT(a)\n",
    "\n",
    "# create count vectorizer and fit it with training data\n",
    "count = CountVectorizer(tokenizer=my_tokenizer, max_features = 1000, lowercase=False)\n",
    "X_train_bag_of_words = count.fit_transform(X_train)\n",
    "\n",
    "# transform the test data into bag of words creaed with fit_transform\n",
    "X_test_bag_of_words = count.transform(X_test)\n",
    "\n",
    "# build the model\n",
    "clf1 = tree.DecisionTreeClassifier(min_samples_leaf=0.01, criterion='entropy', random_state=0)\n",
    "clf1.fit(X_train_bag_of_words, Y_train)\n",
    "Y_predict1 = clf1.predict(X_test_bag_of_words)\n",
    "\n",
    "# DT(b)-convert to lower case\n",
    "\n",
    "# create count vectorizer and fit it with training data\n",
    "count = CountVectorizer(tokenizer=my_tokenizer, max_features = 1000)\n",
    "X_train_bag_of_words = count.fit_transform(X_train)\n",
    "\n",
    "# transform the test data into bag of words creaed with fit_transform\n",
    "X_test_bag_of_words = count.transform(X_test)\n",
    "\n",
    "clf2 = tree.DecisionTreeClassifier(min_samples_leaf=0.01, criterion='entropy', random_state=0)\n",
    "clf2.fit(X_train_bag_of_words, Y_train)\n",
    "Y_predict2 = clf2.predict(X_test_bag_of_words)"
   ]
  },
  {
   "cell_type": "code",
   "execution_count": 43,
   "id": "ae262621",
   "metadata": {
    "hidden": true,
    "scrolled": false
   },
   "outputs": [
    {
     "name": "stdout",
     "output_type": "stream",
     "text": [
      "micro acc,prec,rec,f1: \t0.715\t0.715\t0.715\t0.715\n",
      "macro prec,rec,f1: \t0.709\t0.703\t0.703\n",
      "micro acc,prec,rec,f1: \t0.71\t0.71\t0.71\t0.71\n",
      "macro prec,rec,f1: \t0.713\t0.697\t0.698\n"
     ]
    }
   ],
   "source": [
    "# print(classification_report(Y_test, Y_predict1))\n",
    "evaluation(Y_test, Y_predict1)\n",
    "evaluation(Y_test, Y_predict2)"
   ]
  },
  {
   "cell_type": "code",
   "execution_count": 44,
   "id": "9aad2379",
   "metadata": {
    "hidden": true,
    "scrolled": false
   },
   "outputs": [
    {
     "data": {
      "image/png": "[encoded data removed]",
      "text/plain": [
       "<Figure size 864x360 with 2 Axes>"
      ]
     },
     "metadata": {},
     "output_type": "display_data"
    }
   ],
   "source": [
    "micro, macro = plot1(Y_test, Y_predict1, Y_predict2)"
   ]
  },
  {
   "cell_type": "code",
   "execution_count": 45,
   "id": "1ca14e5f",
   "metadata": {
    "hidden": true
   },
   "outputs": [],
   "source": [
    "# BNB(a)\n",
    "\n",
    "# create count vectorizer and fit it with training data\n",
    "count = CountVectorizer(tokenizer=my_tokenizer, lowercase=False)\n",
    "X_train_bag_of_words = count.fit_transform(X_train)\n",
    "# len(count.get_feature_names())\n",
    "\n",
    "# transform the test data into bag of words creaed with fit_transform\n",
    "X_test_bag_of_words = count.transform(X_test)\n",
    "\n",
    "# build the model\n",
    "clf1 = BernoulliNB()\n",
    "clf1.fit(X_train_bag_of_words, Y_train)\n",
    "Y_predict1 = clf1.predict(X_test_bag_of_words)\n",
    "\n",
    "# BNB(b)-convert to lower case\n",
    "\n",
    "# create count vectorizer and fit it with training data\n",
    "count = CountVectorizer(tokenizer=my_tokenizer)\n",
    "X_train_bag_of_words = count.fit_transform(X_train)\n",
    "# len(count.get_feature_names())\n",
    "\n",
    "# transform the test data into bag of words creaed with fit_transform\n",
    "X_test_bag_of_words = count.transform(X_test)\n",
    "\n",
    "# build the model\n",
    "clf2 = BernoulliNB()\n",
    "clf2.fit(X_train_bag_of_words, Y_train)\n",
    "Y_predict2 = clf2.predict(X_test_bag_of_words)"
   ]
  },
  {
   "cell_type": "code",
   "execution_count": 46,
   "id": "60963979",
   "metadata": {
    "hidden": true,
    "scrolled": false
   },
   "outputs": [
    {
     "name": "stdout",
     "output_type": "stream",
     "text": [
      "micro acc,prec,rec,f1: \t0.86\t0.86\t0.86\t0.86\n",
      "macro prec,rec,f1: \t0.898\t0.842\t0.855\n",
      "micro acc,prec,rec,f1: \t0.87\t0.87\t0.87\t0.87\n",
      "macro prec,rec,f1: \t0.905\t0.855\t0.867\n"
     ]
    }
   ],
   "source": [
    "# print(classification_report(Y_test, Y_predict1))\n",
    "evaluation(Y_test, Y_predict1)\n",
    "evaluation(Y_test, Y_predict2)"
   ]
  },
  {
   "cell_type": "code",
   "execution_count": 47,
   "id": "e2ec030f",
   "metadata": {
    "hidden": true,
    "scrolled": false
   },
   "outputs": [
    {
     "data": {
      "image/png": "[encoded data removed]",
      "text/plain": [
       "<Figure size 864x360 with 2 Axes>"
      ]
     },
     "metadata": {},
     "output_type": "display_data"
    }
   ],
   "source": [
    "micro, macro = plot2(Y_test, Y_predict1, Y_predict2, 1.15, 'BNB')"
   ]
  },
  {
   "cell_type": "code",
   "execution_count": 48,
   "id": "e0e2d10b",
   "metadata": {
    "hidden": true
   },
   "outputs": [],
   "source": [
    "# MNB(a)\n",
    "\n",
    "# create count vectorizer and fit it with training data\n",
    "count = CountVectorizer(tokenizer=my_tokenizer, lowercase=False)\n",
    "X_train_bag_of_words = count.fit_transform(X_train)\n",
    "# len(count.get_feature_names())\n",
    "\n",
    "# transform the test data into bag of words creaed with fit_transform\n",
    "X_test_bag_of_words = count.transform(X_test)\n",
    "\n",
    "# build the model\n",
    "clf1 = MultinomialNB()\n",
    "clf1.fit(X_train_bag_of_words, Y_train)\n",
    "Y_predict1 = clf1.predict(X_test_bag_of_words)\n",
    "\n",
    "# MNB(b)-convert to lower case\n",
    "\n",
    "# create count vectorizer and fit it with training data\n",
    "count = CountVectorizer(tokenizer=my_tokenizer)\n",
    "X_train_bag_of_words = count.fit_transform(X_train)\n",
    "# len(count.get_feature_names())\n",
    "\n",
    "# transform the test data into bag of words creaed with fit_transform\n",
    "X_test_bag_of_words = count.transform(X_test)\n",
    "\n",
    "# build the model\n",
    "clf2 = MultinomialNB()\n",
    "clf2.fit(X_train_bag_of_words, Y_train)\n",
    "Y_predict2 = clf2.predict(X_test_bag_of_words)"
   ]
  },
  {
   "cell_type": "code",
   "execution_count": 49,
   "id": "1b1b7126",
   "metadata": {
    "hidden": true,
    "scrolled": false
   },
   "outputs": [
    {
     "name": "stdout",
     "output_type": "stream",
     "text": [
      "micro acc,prec,rec,f1: \t0.955\t0.955\t0.955\t0.955\n",
      "macro prec,rec,f1: \t0.954\t0.953\t0.951\n",
      "micro acc,prec,rec,f1: \t0.965\t0.965\t0.965\t0.965\n",
      "macro prec,rec,f1: \t0.963\t0.963\t0.962\n"
     ]
    }
   ],
   "source": [
    "# print(classification_report(Y_test, Y_predict1))\n",
    "evaluation(Y_test, Y_predict1)\n",
    "evaluation(Y_test, Y_predict2)"
   ]
  },
  {
   "cell_type": "code",
   "execution_count": 50,
   "id": "702f4c34",
   "metadata": {
    "hidden": true,
    "scrolled": true
   },
   "outputs": [
    {
     "data": {
      "image/png": "[encoded data removed]",
      "text/plain": [
       "<Figure size 864x360 with 2 Axes>"
      ]
     },
     "metadata": {},
     "output_type": "display_data"
    }
   ],
   "source": [
    "micro, macro = plot2(Y_test, Y_predict1, Y_predict2, 1.1999, 'MNB')"
   ]
  },
  {
   "cell_type": "markdown",
   "id": "b46a12be",
   "metadata": {
    "heading_collapsed": true
   },
   "source": [
    "## Question5"
   ]
  },
  {
   "cell_type": "code",
   "execution_count": 51,
   "id": "21b245be",
   "metadata": {
    "hidden": true
   },
   "outputs": [],
   "source": [
    "X_train, Y_train = train_data_article[1], train_data_article[2]\n",
    "X_test, Y_test = test_data_article[1], test_data_article[2]\n",
    "# X_train, Y_train = train_data_summary[1], train_data_summary[2]\n",
    "# X_test, Y_test = test_data_summary[1], test_data_summary[2]"
   ]
  },
  {
   "cell_type": "code",
   "execution_count": 52,
   "id": "30bb8b02",
   "metadata": {
    "hidden": true
   },
   "outputs": [],
   "source": [
    "# create count vectorizer and fit it with training data\n",
    "count = CountVectorizer(tokenizer=my_tokenizer2, lowercase=False)\n",
    "X_train_bag_of_words = count.fit_transform(X_train)\n",
    "\n",
    "# transform the test data into bag of words creaed with fit_transform\n",
    "X_test_bag_of_words = count.transform(X_test)\n",
    "\n",
    "# build the model\n",
    "clf = MLPClassifier(hidden_layer_sizes=(80, ),activation = 'tanh',solver='adam',random_state = 0)\n",
    "clf.fit(X_train_bag_of_words, Y_train)\n",
    "Y_predict = clf.predict(X_test_bag_of_words)"
   ]
  },
  {
   "cell_type": "code",
   "execution_count": 53,
   "id": "373e63d0",
   "metadata": {
    "hidden": true,
    "scrolled": false
   },
   "outputs": [
    {
     "name": "stdout",
     "output_type": "stream",
     "text": [
      "micro acc,prec,rec,f1: \t0.985\t0.985\t0.985\t0.985\n",
      "macro prec,rec,f1: \t0.985\t0.984\t0.985\n"
     ]
    }
   ],
   "source": [
    "# print(classification_report(Y_test, Y_predict))\n",
    "evaluation(Y_test, Y_predict)"
   ]
  },
  {
   "cell_type": "code",
   "execution_count": 54,
   "id": "7f2e994f",
   "metadata": {
    "hidden": true
   },
   "outputs": [
    {
     "data": {
      "text/plain": [
       "<AxesSubplot:title={'center':'Metrics of my classifier'}>"
      ]
     },
     "execution_count": 54,
     "metadata": {},
     "output_type": "execute_result"
    },
    {
     "data": {
      "image/png": "[encoded data removed]",
      "text/plain": [
       "<Figure size 864x360 with 1 Axes>"
      ]
     },
     "metadata": {},
     "output_type": "display_data"
    }
   ],
   "source": [
    "plt.figure(figsize=(12,5))\n",
    "plt.title('Metrics of my classifier')\n",
    "plt.ylim((0,1.1))\n",
    "for a, b in zip([0,1,2,3,4,5,6], \n",
    "                [0.985,0.985,0.985,0.985,0.985,0.984,0.985]):\n",
    "    plt.text(a, b+0.02, '%.3f' % b, ha='center', va='bottom', fontsize=10)\n",
    "sns.barplot(x = ['micro-accuracy', 'micro-precision', 'micro-recall', 'micro-f1',\n",
    "                 'macro-precision', 'macro-recall', 'macro-f1'], y = [0.985,0.985,0.985,0.985,0.985,0.984,0.985], palette = 'Set3')"
   ]
  }
 ],
 "metadata": {
  "kernelspec": {
   "display_name": "Python 3",
   "language": "python",
   "name": "python3"
  },
  "language_info": {
   "codemirror_mode": {
    "name": "ipython",
    "version": 3
   },
   "file_extension": ".py",
   "mimetype": "text/x-python",
   "name": "python",
   "nbconvert_exporter": "python",
   "pygments_lexer": "ipython3",
   "version": "3.8.8"
  },
  "varInspector": {
   "cols": {
    "lenName": 16,
    "lenType": 16,
    "lenVar": 40
   },
   "kernels_config": {
    "python": {
     "delete_cmd_postfix": "",
     "delete_cmd_prefix": "del ",
     "library": "var_list.py",
     "varRefreshCmd": "print(var_dic_list())"
    },
    "r": {
     "delete_cmd_postfix": ") ",
     "delete_cmd_prefix": "rm(",
     "library": "var_list.r",
     "varRefreshCmd": "cat(var_dic_list()) "
    }
   },
   "types_to_exclude": [
    "module",
    "function",
    "builtin_function_or_method",
    "instance",
    "_Feature"
   ],
   "window_display": false
  }
 },
 "nbformat": 4,
 "nbformat_minor": 5
}
